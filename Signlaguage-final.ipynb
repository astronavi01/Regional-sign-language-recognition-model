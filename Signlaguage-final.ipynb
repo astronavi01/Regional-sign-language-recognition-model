{
 "cells": [
  {
   "cell_type": "markdown",
   "id": "5a0580cc-0f0b-4399-a9bd-bf81815741bd",
   "metadata": {},
   "source": [
    "1. Import and Install Dependencies"
   ]
  },
  {
   "cell_type": "code",
   "execution_count": 1,
   "id": "936bbabf-a3b4-4fa4-bf67-e904d9a3d0a0",
   "metadata": {},
   "outputs": [],
   "source": [
    "import cv2\n",
    "import numpy as np\n",
    "import os\n",
    "from matplotlib import pyplot as plt\n",
    "import time\n",
    "import mediapipe as mp"
   ]
  },
  {
   "cell_type": "markdown",
   "id": "17c4d069-35bd-4b32-a52c-c172a00b7f47",
   "metadata": {},
   "source": [
    "2. Keypoints using MP Holistic"
   ]
  },
  {
   "cell_type": "code",
   "execution_count": 2,
   "id": "40df066f-bd0c-4152-b7ca-dfce2530192e",
   "metadata": {},
   "outputs": [],
   "source": [
    "mp_holistic = mp.solutions.holistic # Holistic model\n",
    "mp_drawing = mp.solutions.drawing_utils # Drawing utilities"
   ]
  },
  {
   "cell_type": "code",
   "execution_count": 3,
   "id": "af57671e-54e7-4d89-854a-3438a202f566",
   "metadata": {},
   "outputs": [],
   "source": [
    "def mediapipe_detection(image, model):\n",
    "    image = cv2.cvtColor(image, cv2.COLOR_BGR2RGB) # COLOR CONVERSION BGR 2 RGB\n",
    "    image.flags.writeable = False                  # Image is no longer writeable\n",
    "    results = model.process(image)                 # Make prediction\n",
    "    image.flags.writeable = True                   # Image is now writeable \n",
    "    image = cv2.cvtColor(image, cv2.COLOR_RGB2BGR) # COLOR COVERSION RGB 2 BGR\n",
    "    return image, results"
   ]
  },
  {
   "cell_type": "code",
   "execution_count": 4,
   "id": "8cfcf5e7-1511-4b18-9475-8383d2b9f12d",
   "metadata": {},
   "outputs": [],
   "source": [
    "def draw_landmarks(image, results):\n",
    "    mp_drawing.draw_landmarks(image, results.face_landmarks, mp_holistic.FACEMESH_TESSELATION) # Draw face connections\n",
    "    mp_drawing.draw_landmarks(image, results.pose_landmarks, mp_holistic.POSE_CONNECTIONS) # Draw pose connections\n",
    "    mp_drawing.draw_landmarks(image, results.left_hand_landmarks, mp_holistic.HAND_CONNECTIONS) # Draw left hand connections\n",
    "    mp_drawing.draw_landmarks(image, results.right_hand_landmarks, mp_holistic.HAND_CONNECTIONS) # Draw right hand connection"
   ]
  },
  {
   "cell_type": "code",
   "execution_count": 5,
   "id": "d3473661-b1f8-431d-b7b5-e5a4fdb4b389",
   "metadata": {},
   "outputs": [],
   "source": [
    "def draw_styled_landmarks(image, results):\n",
    "    # Draw face connections\n",
    "    mp_drawing.draw_landmarks(image, results.face_landmarks, mp_holistic.FACEMESH_TESSELATION, \n",
    "                             mp_drawing.DrawingSpec(color=(80,110,10), thickness=1, circle_radius=1), \n",
    "                             mp_drawing.DrawingSpec(color=(80,256,121), thickness=1, circle_radius=1)\n",
    "                             ) \n",
    "    # Draw pose connections\n",
    "    mp_drawing.draw_landmarks(image, results.pose_landmarks, mp_holistic.POSE_CONNECTIONS,\n",
    "                             mp_drawing.DrawingSpec(color=(80,22,10), thickness=2, circle_radius=4), \n",
    "                             mp_drawing.DrawingSpec(color=(80,44,121), thickness=2, circle_radius=2)\n",
    "                             ) \n",
    "    # Draw left hand connections\n",
    "    mp_drawing.draw_landmarks(image, results.left_hand_landmarks, mp_holistic.HAND_CONNECTIONS, \n",
    "                             mp_drawing.DrawingSpec(color=(121,22,76), thickness=2, circle_radius=4), \n",
    "                             mp_drawing.DrawingSpec(color=(121,44,250), thickness=2, circle_radius=2)\n",
    "                             ) \n",
    "    # Draw right hand connections  \n",
    "    mp_drawing.draw_landmarks(image, results.right_hand_landmarks, mp_holistic.HAND_CONNECTIONS, \n",
    "                             mp_drawing.DrawingSpec(color=(245,117,66), thickness=2, circle_radius=4), \n",
    "                             mp_drawing.DrawingSpec(color=(245,66,230), thickness=2, circle_radius=2)\n",
    "                             ) "
   ]
  },
  {
   "cell_type": "code",
   "execution_count": 6,
   "id": "fec70dd9-7a6d-41ba-9447-544d21c438bf",
   "metadata": {},
   "outputs": [],
   "source": [
    "\n",
    "cap = cv2.VideoCapture(0)\n",
    "\n",
    "# Set mediapipe model \n",
    "with mp.solutions.holistic.Holistic(min_detection_confidence=0.5, min_tracking_confidence=0.5) as holistic:\n",
    "    while cap.isOpened():\n",
    "        # Read feed\n",
    "        ret, frame = cap.read()\n",
    "\n",
    "        # Make detections and draw landmarks\n",
    "        image, results = mediapipe_detection(frame, holistic)\n",
    "        draw_styled_landmarks(image, results)\n",
    "\n",
    "        # Show to screen\n",
    "        cv2.imshow('OpenCV Feed', image)\n",
    "\n",
    "        # Break \n",
    "        if cv2.waitKey(10) & 0xFF == ord('q'):\n",
    "            break\n",
    "\n",
    "# Release the camera and close all OpenCV windows\n",
    "cap.release()\n",
    "cv2.destroyAllWindows()\n"
   ]
  },
  {
   "cell_type": "code",
   "execution_count": 7,
   "id": "79235cd0-805f-42bb-bd33-c4ccb997598a",
   "metadata": {},
   "outputs": [
    {
     "data": {
      "text/plain": [
       "mediapipe.python.solution_base.SolutionOutputs"
      ]
     },
     "execution_count": 7,
     "metadata": {},
     "output_type": "execute_result"
    }
   ],
   "source": [
    "results"
   ]
  },
  {
   "cell_type": "markdown",
   "id": "d3376818-48d6-4345-9a88-30ea691dcd86",
   "metadata": {},
   "source": [
    "3. Extract Keypoint Values"
   ]
  },
  {
   "cell_type": "code",
   "execution_count": 8,
   "id": "410f38f4-ec29-453c-bf89-b52e5a4378a9",
   "metadata": {},
   "outputs": [],
   "source": [
    "pose = []\n",
    "for res in results.pose_landmarks.landmark:\n",
    "    test = np.array([res.x, res.y, res.z, res.visibility])\n",
    "    pose.append(test)"
   ]
  },
  {
   "cell_type": "code",
   "execution_count": 9,
   "id": "1cd7f769-4f91-4767-a414-d191263a2ba6",
   "metadata": {},
   "outputs": [],
   "source": [
    "pose = np.array([[res.x, res.y, res.z, res.visibility] for res in results.pose_landmarks.landmark]).flatten() if results.pose_landmarks else np.zeros(132)\n",
    "face = np.array([[res.x, res.y, res.z] for res in results.face_landmarks.landmark]).flatten() if results.face_landmarks else np.zeros(1404)\n",
    "lh = np.array([[res.x, res.y, res.z] for res in results.left_hand_landmarks.landmark]).flatten() if results.left_hand_landmarks else np.zeros(21*3)\n",
    "rh = np.array([[res.x, res.y, res.z] for res in results.right_hand_landmarks.landmark]).flatten() if results.right_hand_landmarks else np.zeros(21*3)\n"
   ]
  },
  {
   "cell_type": "code",
   "execution_count": 10,
   "id": "4f7ced3d-9351-4296-a5b7-fbf1c637dedc",
   "metadata": {},
   "outputs": [],
   "source": [
    "face = np.array([[res.x, res.y, res.z] for res in results.face_landmarks.landmark]).flatten() if results.face_landmarks else np.zeros(1404)\n"
   ]
  },
  {
   "cell_type": "code",
   "execution_count": 11,
   "id": "c30b549d-e748-472c-9c70-60e16adcc815",
   "metadata": {},
   "outputs": [],
   "source": [
    "def extract_keypoints(results):\n",
    "    pose = np.array([[res.x, res.y, res.z, res.visibility] for res in results.pose_landmarks.landmark]).flatten() if results.pose_landmarks else np.zeros(33*4)\n",
    "    face = np.array([[res.x, res.y, res.z] for res in results.face_landmarks.landmark]).flatten() if results.face_landmarks else np.zeros(468*3)\n",
    "\n",
    "\n",
    "\n",
    "\n",
    "    \n",
    "    lh = np.array([[res.x, res.y, res.z] for res in results.left_hand_landmarks.landmark]).flatten() if results.left_hand_landmarks else np.zeros(21*3)\n",
    "    rh = np.array([[res.x, res.y, res.z] for res in results.right_hand_landmarks.landmark]).flatten() if results.right_hand_landmarks else np.zeros(21*3)\n",
    "    return np.concatenate([pose, face, lh, rh])\n"
   ]
  },
  {
   "cell_type": "code",
   "execution_count": 12,
   "id": "7a8aacca-fdb8-4e52-bf38-8ed2710e6b6e",
   "metadata": {},
   "outputs": [],
   "source": [
    "result_test = extract_keypoints(results)"
   ]
  },
  {
   "cell_type": "code",
   "execution_count": 13,
   "id": "bf9f27a9-3582-482e-a201-36a8b8017dfd",
   "metadata": {},
   "outputs": [
    {
     "data": {
      "text/plain": [
       "array([ 0.49015111,  0.46116215, -1.80406117, ...,  0.        ,\n",
       "        0.        ,  0.        ])"
      ]
     },
     "execution_count": 13,
     "metadata": {},
     "output_type": "execute_result"
    }
   ],
   "source": [
    "result_test"
   ]
  },
  {
   "cell_type": "code",
   "execution_count": 14,
   "id": "09b4418d-6a75-4a9d-b66c-c5d88b2e0398",
   "metadata": {},
   "outputs": [],
   "source": [
    "np.save('0', result_test)\n"
   ]
  },
  {
   "cell_type": "code",
   "execution_count": 15,
   "id": "b7b44d3e-a967-44c2-b0a7-1008bfa6b5c0",
   "metadata": {},
   "outputs": [
    {
     "data": {
      "text/plain": [
       "array([ 0.49015111,  0.46116215, -1.80406117, ...,  0.        ,\n",
       "        0.        ,  0.        ])"
      ]
     },
     "execution_count": 15,
     "metadata": {},
     "output_type": "execute_result"
    }
   ],
   "source": [
    "np.load('0.npy')"
   ]
  },
  {
   "cell_type": "markdown",
   "id": "59db55aa-7ffb-4eba-827a-5440218c577c",
   "metadata": {},
   "source": [
    "4. Setup Folders for Collection"
   ]
  },
  {
   "cell_type": "code",
   "execution_count": 16,
   "id": "9cdc269c-87dc-4090-89ea-896d9e284ade",
   "metadata": {},
   "outputs": [],
   "source": [
    "# Path for exported data, numpy arrays\n",
    "DATA_PATH = os.path.join('MP_Data') \n",
    "\n",
    "# Actions that we try to detect\n",
    "actions = np.array(['Hello', 'Vanakam', ' How are you','Iam fine',' Help','Emergency','Call','Thankyou'])\n",
    "\n",
    "# Thirty videos \n",
    "no_sequences = 15\n",
    "\n",
    "# Videos 30 frames \n",
    "sequence_length = 15"
   ]
  },
  {
   "cell_type": "code",
   "execution_count": 17,
   "id": "4c031fda-6fd5-4e9b-9ab6-87c9e122b518",
   "metadata": {},
   "outputs": [],
   "source": [
    "for action in actions: \n",
    "    for sequence in range(no_sequences):\n",
    "        try: \n",
    "            os.makedirs(os.path.join(DATA_PATH, action, str(sequence)))\n",
    "        except:\n",
    "            pass"
   ]
  },
  {
   "cell_type": "markdown",
   "id": "3b3d322b-d72b-40b3-a0ce-8b16d44f624c",
   "metadata": {},
   "source": [
    "5. Collect Keypoint Values for Training and Testing"
   ]
  },
  {
   "cell_type": "code",
   "execution_count": 19,
   "id": "381f8ee0-5644-4337-84e6-e287f8ff531e",
   "metadata": {
    "scrolled": true
   },
   "outputs": [],
   "source": [
    "cap = cv2.VideoCapture(0)\n",
    "\n",
    "# Set MediaPipe model\n",
    "with mp_holistic.Holistic(min_detection_confidence=0.5, min_tracking_confidence=0.5) as holistic:\n",
    "    for action in actions:\n",
    "        for sequence in range(no_sequences):\n",
    "            for frame_num in range(sequence_length):\n",
    "                # Read feed\n",
    "                ret, frame = cap.read()\n",
    "\n",
    "                # Make detections and draw landmarks\n",
    "                image, results = mediapipe_detection(frame, holistic)\n",
    "\n",
    "                # Draw landmarks and display the camera feed\n",
    "                draw_styled_landmarks(image, results)\n",
    "                cv2.imshow('OpenCV Feed', image)\n",
    "\n",
    "                # Apply wait logic\n",
    "                if frame_num == 0: \n",
    "                    cv2.putText(image, 'STARTING COLLECTION', (120, 200), \n",
    "                               cv2.FONT_HERSHEY_SIMPLEX, 1, (0, 255, 0), 4, cv2.LINE_AA)\n",
    "                    cv2.putText(image, 'Collecting frames for {} Video Number {}'.format(action, sequence), (15, 12), \n",
    "                               cv2.FONT_HERSHEY_SIMPLEX, 0.5, (0, 0, 255), 1, cv2.LINE_AA)\n",
    "                    cv2.imshow('OpenCV Feed', image)\n",
    "                    cv2.waitKey(2000)\n",
    "                else: \n",
    "                    cv2.putText(image, 'Collecting frames for {} Video Number {}'.format(action, sequence), (15, 12), \n",
    "                               cv2.FONT_HERSHEY_SIMPLEX, 0.5, (0, 0, 255), 1, cv2.LINE_AA)\n",
    "                    cv2.imshow('OpenCV Feed', image)\n",
    "                \n",
    "                # Export keypoints\n",
    "                keypoints = extract_keypoints(results)\n",
    "                npy_path = os.path.join(DATA_PATH, action, str(sequence), str(frame_num))\n",
    "                np.save(npy_path, keypoints)\n",
    "\n",
    "                # Break gracefully\n",
    "                if cv2.waitKey(10) & 0xFF == ord('q'):\n",
    "                    break\n",
    "                    \n",
    "    cap.release()\n",
    "    cv2.destroyAllWindows()\n"
   ]
  },
  {
   "cell_type": "code",
   "execution_count": 20,
   "id": "0c504a5f-7871-42fd-82b5-461efc2f8b5d",
   "metadata": {},
   "outputs": [],
   "source": [
    "cap.release()\n",
    "cv2.destroyAllWindows()"
   ]
  },
  {
   "cell_type": "markdown",
   "id": "be02c214-5958-4315-a44e-c0c7f47f5f38",
   "metadata": {},
   "source": [
    "6. Preprocess Data and Create Labels and Features"
   ]
  },
  {
   "cell_type": "code",
   "execution_count": 18,
   "id": "f9d99f7f-0559-497f-9e9b-50e50e12f5b1",
   "metadata": {},
   "outputs": [],
   "source": [
    "from sklearn.model_selection import train_test_split\n",
    "from tensorflow.keras.utils import to_categorical"
   ]
  },
  {
   "cell_type": "code",
   "execution_count": 19,
   "id": "2e3fc60c-0eea-4b2e-8320-a394ce7aa352",
   "metadata": {},
   "outputs": [],
   "source": [
    "label_map = {label:num for num, label in enumerate(actions)}"
   ]
  },
  {
   "cell_type": "code",
   "execution_count": 20,
   "id": "d9cd8050-64b6-4395-8a92-65bed2c11de7",
   "metadata": {},
   "outputs": [
    {
     "data": {
      "text/plain": [
       "{'Hello': 0,\n",
       " 'Vanakam': 1,\n",
       " ' How are you': 2,\n",
       " 'Iam fine': 3,\n",
       " ' Help': 4,\n",
       " 'Emergency': 5,\n",
       " 'Call': 6,\n",
       " 'Thankyou': 7}"
      ]
     },
     "execution_count": 20,
     "metadata": {},
     "output_type": "execute_result"
    }
   ],
   "source": [
    "label_map"
   ]
  },
  {
   "cell_type": "code",
   "execution_count": 21,
   "id": "d03cf1eb-fd76-4e87-b22d-2927e29dfe79",
   "metadata": {},
   "outputs": [],
   "source": [
    "sequences, labels = [], []\n",
    "for action in actions:\n",
    "    for sequence in range(no_sequences):\n",
    "        window = []\n",
    "        for frame_num in range(sequence_length):\n",
    "            res = np.load(os.path.join(DATA_PATH, action, str(sequence), \"{}.npy\".format(frame_num)))\n",
    "            window.append(res)\n",
    "        sequences.append(window)\n",
    "        labels.append(label_map[action])"
   ]
  },
  {
   "cell_type": "code",
   "execution_count": 22,
   "id": "a3f36715-42ce-47a7-8676-f81c4917a831",
   "metadata": {},
   "outputs": [
    {
     "data": {
      "text/plain": [
       "(120, 15, 1662)"
      ]
     },
     "execution_count": 22,
     "metadata": {},
     "output_type": "execute_result"
    }
   ],
   "source": [
    "np.array(sequences).shape"
   ]
  },
  {
   "cell_type": "code",
   "execution_count": 23,
   "id": "635b4a38-ea61-48d7-b4ca-8529c65b4839",
   "metadata": {},
   "outputs": [
    {
     "data": {
      "text/plain": [
       "(120,)"
      ]
     },
     "execution_count": 23,
     "metadata": {},
     "output_type": "execute_result"
    }
   ],
   "source": [
    "np.array(labels).shape"
   ]
  },
  {
   "cell_type": "code",
   "execution_count": 24,
   "id": "53c8feb7-b5ef-44c3-afb6-d6f48be2158e",
   "metadata": {},
   "outputs": [],
   "source": [
    "X = np.array(sequences)"
   ]
  },
  {
   "cell_type": "code",
   "execution_count": 25,
   "id": "581286e2-9135-42e9-8432-ca59d1c5b374",
   "metadata": {},
   "outputs": [
    {
     "data": {
      "text/plain": [
       "(120, 15, 1662)"
      ]
     },
     "execution_count": 25,
     "metadata": {},
     "output_type": "execute_result"
    }
   ],
   "source": [
    "X.shape"
   ]
  },
  {
   "cell_type": "code",
   "execution_count": 26,
   "id": "9f77fde2-26b4-423b-9d7f-6b135588cdbc",
   "metadata": {},
   "outputs": [],
   "source": [
    "y = to_categorical(labels).astype(int)"
   ]
  },
  {
   "cell_type": "code",
   "execution_count": 27,
   "id": "c73ac432-77c6-4028-958b-988494258092",
   "metadata": {},
   "outputs": [],
   "source": [
    "X_train, X_test, y_train, y_test = train_test_split(X, y, test_size=0.05)"
   ]
  },
  {
   "cell_type": "code",
   "execution_count": 28,
   "id": "89a9b2b7-ae5e-4d7c-bcb4-5618e1349889",
   "metadata": {},
   "outputs": [
    {
     "data": {
      "text/plain": [
       "(6, 8)"
      ]
     },
     "execution_count": 28,
     "metadata": {},
     "output_type": "execute_result"
    }
   ],
   "source": [
    "y_test.shape"
   ]
  },
  {
   "cell_type": "markdown",
   "id": "95549ea7-4bea-4a5a-94c7-89b8f2a5d9b4",
   "metadata": {},
   "source": [
    "7. Build and Train LSTM Neural Network"
   ]
  },
  {
   "cell_type": "code",
   "execution_count": 29,
   "id": "d7e5a2cb-7136-4d0e-bc0c-36a59b49fa64",
   "metadata": {},
   "outputs": [],
   "source": [
    "from tensorflow.keras.models import Sequential\n",
    "from tensorflow.keras.layers import LSTM, Dense\n",
    "from tensorflow.keras.callbacks import TensorBoard"
   ]
  },
  {
   "cell_type": "code",
   "execution_count": 30,
   "id": "a64e9f2b-d7c5-410a-8835-27a2dbd30038",
   "metadata": {},
   "outputs": [],
   "source": [
    "log_dir = os.path.join('Logs')\n",
    "tb_callback = TensorBoard(log_dir=log_dir)"
   ]
  },
  {
   "cell_type": "code",
   "execution_count": 31,
   "id": "d6baac30-2692-4b7c-9610-541f0effb37c",
   "metadata": {},
   "outputs": [],
   "source": [
    "model = Sequential()\n",
    "model.add(LSTM(64, return_sequences=True, activation='relu', input_shape=(15,1662)))\n",
    "model.add(LSTM(128, return_sequences=True, activation='relu'))\n",
    "model.add(LSTM(64, return_sequences=False, activation='relu'))\n",
    "model.add(Dense(64, activation='relu'))\n",
    "model.add(Dense(32, activation='relu'))\n",
    "model.add(Dense(actions.shape[0], activation='softmax'))"
   ]
  },
  {
   "cell_type": "code",
   "execution_count": 32,
   "id": "b8a19f55-d065-49b0-9434-396598df21c6",
   "metadata": {},
   "outputs": [],
   "source": [
    "res = [.7, 0.2, 0.1]"
   ]
  },
  {
   "cell_type": "code",
   "execution_count": 33,
   "id": "24352538-247a-4c74-8911-3140a2cb6f3d",
   "metadata": {},
   "outputs": [
    {
     "data": {
      "text/plain": [
       "'Hello'"
      ]
     },
     "execution_count": 33,
     "metadata": {},
     "output_type": "execute_result"
    }
   ],
   "source": [
    "actions[np.argmax(res)]"
   ]
  },
  {
   "cell_type": "code",
   "execution_count": 34,
   "id": "7a77e3c8-a601-4291-8d13-ef184fdc7a1f",
   "metadata": {},
   "outputs": [],
   "source": [
    "model.compile(optimizer='Adam', loss='categorical_crossentropy', metrics=['categorical_accuracy'])"
   ]
  },
  {
   "cell_type": "code",
   "execution_count": 35,
   "id": "943f0343-c791-4966-84b9-687e0639e147",
   "metadata": {},
   "outputs": [
    {
     "name": "stdout",
     "output_type": "stream",
     "text": [
      "Epoch 1/2000\n",
      "4/4 [==============================] - 7s 258ms/step - loss: 2.1361 - categorical_accuracy: 0.1374\n",
      "Epoch 2/2000\n",
      "4/4 [==============================] - 0s 78ms/step - loss: 2.0883 - categorical_accuracy: 0.1464\n",
      "Epoch 3/2000\n",
      "4/4 [==============================] - 0s 83ms/step - loss: 2.0703 - categorical_accuracy: 0.0336\n",
      "Epoch 4/2000\n",
      "4/4 [==============================] - 0s 92ms/step - loss: 2.0410 - categorical_accuracy: 0.1380\n",
      "Epoch 5/2000\n",
      "4/4 [==============================] - 0s 78ms/step - loss: 1.8912 - categorical_accuracy: 0.2677\n",
      "Epoch 6/2000\n",
      "4/4 [==============================] - 0s 95ms/step - loss: 1.9311 - categorical_accuracy: 0.1359\n",
      "Epoch 7/2000\n",
      "4/4 [==============================] - 0s 91ms/step - loss: 1.6643 - categorical_accuracy: 0.2795\n",
      "Epoch 8/2000\n",
      "4/4 [==============================] - 0s 93ms/step - loss: 1.5950 - categorical_accuracy: 0.3478\n",
      "Epoch 9/2000\n",
      "4/4 [==============================] - 0s 83ms/step - loss: 1.3470 - categorical_accuracy: 0.4050\n",
      "Epoch 10/2000\n",
      "4/4 [==============================] - 0s 83ms/step - loss: 1.2221 - categorical_accuracy: 0.5351\n",
      "Epoch 11/2000\n",
      "4/4 [==============================] - 0s 77ms/step - loss: 1.3000 - categorical_accuracy: 0.4401\n",
      "Epoch 12/2000\n",
      "4/4 [==============================] - 0s 84ms/step - loss: 1.8133 - categorical_accuracy: 0.1448\n",
      "Epoch 13/2000\n",
      "4/4 [==============================] - 0s 84ms/step - loss: 1.7577 - categorical_accuracy: 0.1905\n",
      "Epoch 14/2000\n",
      "4/4 [==============================] - 0s 95ms/step - loss: 1.5796 - categorical_accuracy: 0.4311\n",
      "Epoch 15/2000\n",
      "4/4 [==============================] - 0s 88ms/step - loss: 1.6391 - categorical_accuracy: 0.3137\n",
      "Epoch 16/2000\n",
      "4/4 [==============================] - 0s 90ms/step - loss: 1.4957 - categorical_accuracy: 0.3904\n",
      "Epoch 17/2000\n",
      "4/4 [==============================] - 0s 92ms/step - loss: 1.4306 - categorical_accuracy: 0.3376\n",
      "Epoch 18/2000\n",
      "4/4 [==============================] - 0s 93ms/step - loss: 1.2220 - categorical_accuracy: 0.4080\n",
      "Epoch 19/2000\n",
      "4/4 [==============================] - 0s 116ms/step - loss: 1.2587 - categorical_accuracy: 0.3762\n",
      "Epoch 20/2000\n",
      "4/4 [==============================] - 0s 93ms/step - loss: 0.8558 - categorical_accuracy: 0.7179\n",
      "Epoch 21/2000\n",
      "4/4 [==============================] - 0s 101ms/step - loss: 0.8211 - categorical_accuracy: 0.6747\n",
      "Epoch 22/2000\n",
      "4/4 [==============================] - 0s 83ms/step - loss: 0.9694 - categorical_accuracy: 0.6541\n",
      "Epoch 23/2000\n",
      "4/4 [==============================] - 0s 77ms/step - loss: 1.1775 - categorical_accuracy: 0.5331\n",
      "Epoch 24/2000\n",
      "4/4 [==============================] - 0s 93ms/step - loss: 1.3697 - categorical_accuracy: 0.5055\n",
      "Epoch 25/2000\n",
      "4/4 [==============================] - 0s 78ms/step - loss: 1.0747 - categorical_accuracy: 0.6268\n",
      "Epoch 26/2000\n",
      "4/4 [==============================] - 0s 78ms/step - loss: 0.9268 - categorical_accuracy: 0.7548\n",
      "Epoch 27/2000\n",
      "4/4 [==============================] - 0s 88ms/step - loss: 0.6952 - categorical_accuracy: 0.7982\n",
      "Epoch 28/2000\n",
      "4/4 [==============================] - 0s 94ms/step - loss: 0.6712 - categorical_accuracy: 0.7662\n",
      "Epoch 29/2000\n",
      "4/4 [==============================] - 0s 83ms/step - loss: 0.7900 - categorical_accuracy: 0.6707\n",
      "Epoch 30/2000\n",
      "4/4 [==============================] - 0s 85ms/step - loss: 0.8307 - categorical_accuracy: 0.5752\n",
      "Epoch 31/2000\n",
      "4/4 [==============================] - 0s 78ms/step - loss: 0.6585 - categorical_accuracy: 0.7087\n",
      "Epoch 32/2000\n",
      "4/4 [==============================] - 0s 112ms/step - loss: 0.6287 - categorical_accuracy: 0.7766\n",
      "Epoch 33/2000\n",
      "4/4 [==============================] - 0s 89ms/step - loss: 0.4878 - categorical_accuracy: 0.8543\n",
      "Epoch 34/2000\n",
      "4/4 [==============================] - 0s 89ms/step - loss: 0.3890 - categorical_accuracy: 0.8423\n",
      "Epoch 35/2000\n",
      "4/4 [==============================] - 0s 101ms/step - loss: 0.6977 - categorical_accuracy: 0.6901\n",
      "Epoch 36/2000\n",
      "4/4 [==============================] - 0s 89ms/step - loss: 0.6076 - categorical_accuracy: 0.7806\n",
      "Epoch 37/2000\n",
      "4/4 [==============================] - 0s 95ms/step - loss: 0.7590 - categorical_accuracy: 0.7331\n",
      "Epoch 38/2000\n",
      "4/4 [==============================] - 0s 82ms/step - loss: 0.4151 - categorical_accuracy: 0.8146\n",
      "Epoch 39/2000\n",
      "4/4 [==============================] - 0s 86ms/step - loss: 0.7486 - categorical_accuracy: 0.7857\n",
      "Epoch 40/2000\n",
      "4/4 [==============================] - 0s 83ms/step - loss: 0.5591 - categorical_accuracy: 0.7662\n",
      "Epoch 41/2000\n",
      "4/4 [==============================] - 0s 83ms/step - loss: 0.5023 - categorical_accuracy: 0.8229\n",
      "Epoch 42/2000\n",
      "4/4 [==============================] - 0s 86ms/step - loss: 0.2994 - categorical_accuracy: 0.8967\n",
      "Epoch 43/2000\n",
      "4/4 [==============================] - 0s 78ms/step - loss: 0.4779 - categorical_accuracy: 0.7641\n",
      "Epoch 44/2000\n",
      "4/4 [==============================] - 0s 76ms/step - loss: 0.3341 - categorical_accuracy: 0.8384\n",
      "Epoch 45/2000\n",
      "4/4 [==============================] - 0s 111ms/step - loss: 1.5930 - categorical_accuracy: 0.5855\n",
      "Epoch 46/2000\n",
      "4/4 [==============================] - 0s 79ms/step - loss: 1.2532 - categorical_accuracy: 0.5864\n",
      "Epoch 47/2000\n",
      "4/4 [==============================] - 0s 85ms/step - loss: 1.4506 - categorical_accuracy: 0.5027\n",
      "Epoch 48/2000\n",
      "4/4 [==============================] - 0s 79ms/step - loss: 1.1926 - categorical_accuracy: 0.5783\n",
      "Epoch 49/2000\n",
      "4/4 [==============================] - 0s 80ms/step - loss: 0.9595 - categorical_accuracy: 0.5964\n",
      "Epoch 50/2000\n",
      "4/4 [==============================] - 0s 79ms/step - loss: 0.6358 - categorical_accuracy: 0.8046\n",
      "Epoch 51/2000\n",
      "4/4 [==============================] - 0s 79ms/step - loss: 0.3573 - categorical_accuracy: 0.9033\n",
      "Epoch 52/2000\n",
      "4/4 [==============================] - 0s 80ms/step - loss: 0.2790 - categorical_accuracy: 0.9191\n",
      "Epoch 53/2000\n",
      "4/4 [==============================] - 0s 89ms/step - loss: 0.9895 - categorical_accuracy: 0.7042\n",
      "Epoch 54/2000\n",
      "4/4 [==============================] - 0s 76ms/step - loss: 0.5902 - categorical_accuracy: 0.7299\n",
      "Epoch 55/2000\n",
      "4/4 [==============================] - 0s 71ms/step - loss: 0.4688 - categorical_accuracy: 0.8254\n",
      "Epoch 56/2000\n",
      "4/4 [==============================] - 0s 72ms/step - loss: 0.4678 - categorical_accuracy: 0.8124\n",
      "Epoch 57/2000\n",
      "4/4 [==============================] - 0s 107ms/step - loss: 0.3819 - categorical_accuracy: 0.7877\n",
      "Epoch 58/2000\n",
      "4/4 [==============================] - 0s 73ms/step - loss: 0.3037 - categorical_accuracy: 0.8305\n",
      "Epoch 59/2000\n",
      "4/4 [==============================] - 0s 81ms/step - loss: 0.3304 - categorical_accuracy: 0.8606\n",
      "Epoch 60/2000\n",
      "4/4 [==============================] - 0s 76ms/step - loss: 0.3896 - categorical_accuracy: 0.8847\n",
      "Epoch 61/2000\n",
      "4/4 [==============================] - 0s 79ms/step - loss: 0.2010 - categorical_accuracy: 0.9672\n",
      "Epoch 62/2000\n",
      "4/4 [==============================] - 0s 82ms/step - loss: 0.1614 - categorical_accuracy: 0.9637\n",
      "Epoch 63/2000\n",
      "4/4 [==============================] - 0s 83ms/step - loss: 0.1562 - categorical_accuracy: 0.9162\n",
      "Epoch 64/2000\n",
      "4/4 [==============================] - 0s 93ms/step - loss: 0.4991 - categorical_accuracy: 0.7901\n",
      "Epoch 65/2000\n",
      "4/4 [==============================] - 0s 84ms/step - loss: 0.2562 - categorical_accuracy: 0.8587\n",
      "Epoch 66/2000\n",
      "4/4 [==============================] - 0s 85ms/step - loss: 0.4938 - categorical_accuracy: 0.8393\n",
      "Epoch 67/2000\n",
      "4/4 [==============================] - 0s 91ms/step - loss: 0.3077 - categorical_accuracy: 0.8847\n",
      "Epoch 68/2000\n",
      "4/4 [==============================] - 0s 80ms/step - loss: 0.2077 - categorical_accuracy: 0.9149\n",
      "Epoch 69/2000\n",
      "4/4 [==============================] - 0s 79ms/step - loss: 0.1180 - categorical_accuracy: 0.9589\n",
      "Epoch 70/2000\n",
      "4/4 [==============================] - 0s 90ms/step - loss: 0.1211 - categorical_accuracy: 0.9707\n",
      "Epoch 71/2000\n",
      "4/4 [==============================] - 0s 93ms/step - loss: 0.0902 - categorical_accuracy: 0.9801\n",
      "Epoch 72/2000\n",
      "4/4 [==============================] - 0s 84ms/step - loss: 0.0581 - categorical_accuracy: 0.9850\n",
      "Epoch 73/2000\n",
      "4/4 [==============================] - 0s 90ms/step - loss: 0.0596 - categorical_accuracy: 0.9850\n",
      "Epoch 74/2000\n",
      "4/4 [==============================] - 0s 81ms/step - loss: 0.0263 - categorical_accuracy: 1.0000\n",
      "Epoch 75/2000\n",
      "4/4 [==============================] - 0s 94ms/step - loss: 0.1377 - categorical_accuracy: 0.9536\n",
      "Epoch 76/2000\n",
      "4/4 [==============================] - 0s 87ms/step - loss: 1.2733 - categorical_accuracy: 0.8259\n",
      "Epoch 77/2000\n",
      "4/4 [==============================] - 0s 88ms/step - loss: 1.2213 - categorical_accuracy: 0.6897\n",
      "Epoch 78/2000\n",
      "4/4 [==============================] - 0s 96ms/step - loss: 0.7375 - categorical_accuracy: 0.7218\n",
      "Epoch 79/2000\n",
      "4/4 [==============================] - 0s 78ms/step - loss: 0.7958 - categorical_accuracy: 0.6595\n",
      "Epoch 80/2000\n",
      "4/4 [==============================] - 0s 94ms/step - loss: 0.5046 - categorical_accuracy: 0.8162\n",
      "Epoch 81/2000\n",
      "4/4 [==============================] - 0s 86ms/step - loss: 0.5335 - categorical_accuracy: 0.7185\n",
      "Epoch 82/2000\n",
      "4/4 [==============================] - 0s 73ms/step - loss: 0.3460 - categorical_accuracy: 0.8937\n",
      "Epoch 83/2000\n",
      "4/4 [==============================] - 0s 87ms/step - loss: 0.1768 - categorical_accuracy: 0.9853\n",
      "Epoch 84/2000\n",
      "4/4 [==============================] - 0s 71ms/step - loss: 0.1657 - categorical_accuracy: 0.9701\n",
      "Epoch 85/2000\n",
      "4/4 [==============================] - 0s 117ms/step - loss: 0.1138 - categorical_accuracy: 0.9728\n",
      "Epoch 86/2000\n",
      "4/4 [==============================] - 0s 70ms/step - loss: 0.0838 - categorical_accuracy: 0.9766\n",
      "Epoch 87/2000\n",
      "4/4 [==============================] - 0s 76ms/step - loss: 0.1989 - categorical_accuracy: 0.9337\n",
      "Epoch 88/2000\n",
      "4/4 [==============================] - 0s 73ms/step - loss: 0.1969 - categorical_accuracy: 0.9310\n",
      "Epoch 89/2000\n",
      "4/4 [==============================] - 0s 74ms/step - loss: 0.3533 - categorical_accuracy: 0.9087\n",
      "Epoch 90/2000\n",
      "4/4 [==============================] - 0s 87ms/step - loss: 1.0493 - categorical_accuracy: 0.7639\n",
      "Epoch 91/2000\n",
      "4/4 [==============================] - 0s 68ms/step - loss: 0.6248 - categorical_accuracy: 0.6704\n",
      "Epoch 92/2000\n",
      "4/4 [==============================] - 0s 77ms/step - loss: 1.1605 - categorical_accuracy: 0.5968\n",
      "Epoch 93/2000\n",
      "4/4 [==============================] - 0s 99ms/step - loss: 0.4731 - categorical_accuracy: 0.8996\n",
      "Epoch 94/2000\n",
      "4/4 [==============================] - 0s 73ms/step - loss: 0.6687 - categorical_accuracy: 0.7929\n",
      "Epoch 95/2000\n",
      "4/4 [==============================] - 0s 81ms/step - loss: 0.3906 - categorical_accuracy: 0.9710\n",
      "Epoch 96/2000\n",
      "4/4 [==============================] - 0s 76ms/step - loss: 0.3490 - categorical_accuracy: 0.8570\n",
      "Epoch 97/2000\n",
      "4/4 [==============================] - 0s 75ms/step - loss: 0.2220 - categorical_accuracy: 0.9279\n",
      "Epoch 98/2000\n",
      "4/4 [==============================] - 0s 80ms/step - loss: 0.1734 - categorical_accuracy: 0.9759\n",
      "Epoch 99/2000\n",
      "4/4 [==============================] - 0s 69ms/step - loss: 0.1724 - categorical_accuracy: 0.9613\n",
      "Epoch 100/2000\n",
      "4/4 [==============================] - 0s 86ms/step - loss: 0.1007 - categorical_accuracy: 0.9853\n",
      "Epoch 101/2000\n",
      "4/4 [==============================] - 0s 77ms/step - loss: 0.0902 - categorical_accuracy: 0.9857\n",
      "Epoch 102/2000\n",
      "4/4 [==============================] - 0s 82ms/step - loss: 0.0812 - categorical_accuracy: 0.9794\n",
      "Epoch 103/2000\n",
      "4/4 [==============================] - 0s 78ms/step - loss: 0.0645 - categorical_accuracy: 0.9815\n",
      "Epoch 104/2000\n",
      "4/4 [==============================] - 0s 79ms/step - loss: 0.0625 - categorical_accuracy: 0.9763\n",
      "Epoch 105/2000\n",
      "4/4 [==============================] - 0s 69ms/step - loss: 0.0496 - categorical_accuracy: 0.9763\n",
      "Epoch 106/2000\n",
      "4/4 [==============================] - 0s 87ms/step - loss: 0.0387 - categorical_accuracy: 0.9815\n",
      "Epoch 107/2000\n",
      "4/4 [==============================] - 0s 68ms/step - loss: 0.0308 - categorical_accuracy: 1.0000\n",
      "Epoch 108/2000\n",
      "4/4 [==============================] - 0s 94ms/step - loss: 0.0282 - categorical_accuracy: 0.9913\n",
      "Epoch 109/2000\n",
      "4/4 [==============================] - 0s 88ms/step - loss: 0.0187 - categorical_accuracy: 1.0000\n",
      "Epoch 110/2000\n",
      "4/4 [==============================] - 0s 101ms/step - loss: 0.0245 - categorical_accuracy: 0.9944\n",
      "Epoch 111/2000\n",
      "4/4 [==============================] - 0s 69ms/step - loss: 0.0186 - categorical_accuracy: 1.0000\n",
      "Epoch 112/2000\n",
      "4/4 [==============================] - 0s 76ms/step - loss: 0.0096 - categorical_accuracy: 1.0000\n",
      "Epoch 113/2000\n",
      "4/4 [==============================] - 0s 77ms/step - loss: 0.0102 - categorical_accuracy: 0.9944\n",
      "Epoch 114/2000\n",
      "4/4 [==============================] - 0s 75ms/step - loss: 0.0148 - categorical_accuracy: 1.0000\n",
      "Epoch 115/2000\n",
      "4/4 [==============================] - 0s 75ms/step - loss: 0.0159 - categorical_accuracy: 0.9850\n",
      "Epoch 116/2000\n",
      "4/4 [==============================] - 0s 117ms/step - loss: 0.0152 - categorical_accuracy: 0.9850\n",
      "Epoch 117/2000\n",
      "4/4 [==============================] - 0s 76ms/step - loss: 0.0053 - categorical_accuracy: 1.0000\n",
      "Epoch 118/2000\n",
      "4/4 [==============================] - 0s 76ms/step - loss: 0.0050 - categorical_accuracy: 1.0000\n",
      "Epoch 119/2000\n",
      "4/4 [==============================] - 0s 74ms/step - loss: 0.0010 - categorical_accuracy: 1.0000\n",
      "Epoch 120/2000\n",
      "4/4 [==============================] - 0s 76ms/step - loss: 0.0023 - categorical_accuracy: 1.0000\n",
      "Epoch 121/2000\n",
      "1/4 [======>.......................] - ETA: 0s - loss: 0.0016 - categorical_accuracy: 1.0000"
     ]
    },
    {
     "ename": "KeyboardInterrupt",
     "evalue": "",
     "output_type": "error",
     "traceback": [
      "\u001b[1;31m---------------------------------------------------------------------------\u001b[0m",
      "\u001b[1;31mKeyboardInterrupt\u001b[0m                         Traceback (most recent call last)",
      "Cell \u001b[1;32mIn[35], line 1\u001b[0m\n\u001b[1;32m----> 1\u001b[0m \u001b[43mmodel\u001b[49m\u001b[38;5;241;43m.\u001b[39;49m\u001b[43mfit\u001b[49m\u001b[43m(\u001b[49m\u001b[43mX_train\u001b[49m\u001b[43m,\u001b[49m\u001b[43m \u001b[49m\u001b[43my_train\u001b[49m\u001b[43m,\u001b[49m\u001b[43m \u001b[49m\u001b[43mepochs\u001b[49m\u001b[38;5;241;43m=\u001b[39;49m\u001b[38;5;241;43m2000\u001b[39;49m\u001b[43m,\u001b[49m\u001b[43m \u001b[49m\u001b[43mcallbacks\u001b[49m\u001b[38;5;241;43m=\u001b[39;49m\u001b[43m[\u001b[49m\u001b[43mtb_callback\u001b[49m\u001b[43m]\u001b[49m\u001b[43m)\u001b[49m\n",
      "File \u001b[1;32m~\\anaconda3\\envs\\hand_sign_detection\\lib\\site-packages\\tensorflow\\python\\keras\\engine\\training.py:1100\u001b[0m, in \u001b[0;36mModel.fit\u001b[1;34m(self, x, y, batch_size, epochs, verbose, callbacks, validation_split, validation_data, shuffle, class_weight, sample_weight, initial_epoch, steps_per_epoch, validation_steps, validation_batch_size, validation_freq, max_queue_size, workers, use_multiprocessing)\u001b[0m\n\u001b[0;32m   1093\u001b[0m \u001b[38;5;28;01mwith\u001b[39;00m trace\u001b[38;5;241m.\u001b[39mTrace(\n\u001b[0;32m   1094\u001b[0m     \u001b[38;5;124m'\u001b[39m\u001b[38;5;124mtrain\u001b[39m\u001b[38;5;124m'\u001b[39m,\n\u001b[0;32m   1095\u001b[0m     epoch_num\u001b[38;5;241m=\u001b[39mepoch,\n\u001b[0;32m   1096\u001b[0m     step_num\u001b[38;5;241m=\u001b[39mstep,\n\u001b[0;32m   1097\u001b[0m     batch_size\u001b[38;5;241m=\u001b[39mbatch_size,\n\u001b[0;32m   1098\u001b[0m     _r\u001b[38;5;241m=\u001b[39m\u001b[38;5;241m1\u001b[39m):\n\u001b[0;32m   1099\u001b[0m   callbacks\u001b[38;5;241m.\u001b[39mon_train_batch_begin(step)\n\u001b[1;32m-> 1100\u001b[0m   tmp_logs \u001b[38;5;241m=\u001b[39m \u001b[38;5;28;43mself\u001b[39;49m\u001b[38;5;241;43m.\u001b[39;49m\u001b[43mtrain_function\u001b[49m\u001b[43m(\u001b[49m\u001b[43miterator\u001b[49m\u001b[43m)\u001b[49m\n\u001b[0;32m   1101\u001b[0m   \u001b[38;5;28;01mif\u001b[39;00m data_handler\u001b[38;5;241m.\u001b[39mshould_sync:\n\u001b[0;32m   1102\u001b[0m     context\u001b[38;5;241m.\u001b[39masync_wait()\n",
      "File \u001b[1;32m~\\anaconda3\\envs\\hand_sign_detection\\lib\\site-packages\\tensorflow\\python\\eager\\def_function.py:828\u001b[0m, in \u001b[0;36mFunction.__call__\u001b[1;34m(self, *args, **kwds)\u001b[0m\n\u001b[0;32m    826\u001b[0m tracing_count \u001b[38;5;241m=\u001b[39m \u001b[38;5;28mself\u001b[39m\u001b[38;5;241m.\u001b[39mexperimental_get_tracing_count()\n\u001b[0;32m    827\u001b[0m \u001b[38;5;28;01mwith\u001b[39;00m trace\u001b[38;5;241m.\u001b[39mTrace(\u001b[38;5;28mself\u001b[39m\u001b[38;5;241m.\u001b[39m_name) \u001b[38;5;28;01mas\u001b[39;00m tm:\n\u001b[1;32m--> 828\u001b[0m   result \u001b[38;5;241m=\u001b[39m \u001b[38;5;28;43mself\u001b[39;49m\u001b[38;5;241;43m.\u001b[39;49m\u001b[43m_call\u001b[49m\u001b[43m(\u001b[49m\u001b[38;5;241;43m*\u001b[39;49m\u001b[43margs\u001b[49m\u001b[43m,\u001b[49m\u001b[43m \u001b[49m\u001b[38;5;241;43m*\u001b[39;49m\u001b[38;5;241;43m*\u001b[39;49m\u001b[43mkwds\u001b[49m\u001b[43m)\u001b[49m\n\u001b[0;32m    829\u001b[0m   compiler \u001b[38;5;241m=\u001b[39m \u001b[38;5;124m\"\u001b[39m\u001b[38;5;124mxla\u001b[39m\u001b[38;5;124m\"\u001b[39m \u001b[38;5;28;01mif\u001b[39;00m \u001b[38;5;28mself\u001b[39m\u001b[38;5;241m.\u001b[39m_experimental_compile \u001b[38;5;28;01melse\u001b[39;00m \u001b[38;5;124m\"\u001b[39m\u001b[38;5;124mnonXla\u001b[39m\u001b[38;5;124m\"\u001b[39m\n\u001b[0;32m    830\u001b[0m   new_tracing_count \u001b[38;5;241m=\u001b[39m \u001b[38;5;28mself\u001b[39m\u001b[38;5;241m.\u001b[39mexperimental_get_tracing_count()\n",
      "File \u001b[1;32m~\\anaconda3\\envs\\hand_sign_detection\\lib\\site-packages\\tensorflow\\python\\eager\\def_function.py:855\u001b[0m, in \u001b[0;36mFunction._call\u001b[1;34m(self, *args, **kwds)\u001b[0m\n\u001b[0;32m    852\u001b[0m   \u001b[38;5;28mself\u001b[39m\u001b[38;5;241m.\u001b[39m_lock\u001b[38;5;241m.\u001b[39mrelease()\n\u001b[0;32m    853\u001b[0m   \u001b[38;5;66;03m# In this case we have created variables on the first call, so we run the\u001b[39;00m\n\u001b[0;32m    854\u001b[0m   \u001b[38;5;66;03m# defunned version which is guaranteed to never create variables.\u001b[39;00m\n\u001b[1;32m--> 855\u001b[0m   \u001b[38;5;28;01mreturn\u001b[39;00m \u001b[38;5;28;43mself\u001b[39;49m\u001b[38;5;241;43m.\u001b[39;49m\u001b[43m_stateless_fn\u001b[49m\u001b[43m(\u001b[49m\u001b[38;5;241;43m*\u001b[39;49m\u001b[43margs\u001b[49m\u001b[43m,\u001b[49m\u001b[43m \u001b[49m\u001b[38;5;241;43m*\u001b[39;49m\u001b[38;5;241;43m*\u001b[39;49m\u001b[43mkwds\u001b[49m\u001b[43m)\u001b[49m  \u001b[38;5;66;03m# pylint: disable=not-callable\u001b[39;00m\n\u001b[0;32m    856\u001b[0m \u001b[38;5;28;01melif\u001b[39;00m \u001b[38;5;28mself\u001b[39m\u001b[38;5;241m.\u001b[39m_stateful_fn \u001b[38;5;129;01mis\u001b[39;00m \u001b[38;5;129;01mnot\u001b[39;00m \u001b[38;5;28;01mNone\u001b[39;00m:\n\u001b[0;32m    857\u001b[0m   \u001b[38;5;66;03m# Release the lock early so that multiple threads can perform the call\u001b[39;00m\n\u001b[0;32m    858\u001b[0m   \u001b[38;5;66;03m# in parallel.\u001b[39;00m\n\u001b[0;32m    859\u001b[0m   \u001b[38;5;28mself\u001b[39m\u001b[38;5;241m.\u001b[39m_lock\u001b[38;5;241m.\u001b[39mrelease()\n",
      "File \u001b[1;32m~\\anaconda3\\envs\\hand_sign_detection\\lib\\site-packages\\tensorflow\\python\\eager\\function.py:2942\u001b[0m, in \u001b[0;36mFunction.__call__\u001b[1;34m(self, *args, **kwargs)\u001b[0m\n\u001b[0;32m   2939\u001b[0m \u001b[38;5;28;01mwith\u001b[39;00m \u001b[38;5;28mself\u001b[39m\u001b[38;5;241m.\u001b[39m_lock:\n\u001b[0;32m   2940\u001b[0m   (graph_function,\n\u001b[0;32m   2941\u001b[0m    filtered_flat_args) \u001b[38;5;241m=\u001b[39m \u001b[38;5;28mself\u001b[39m\u001b[38;5;241m.\u001b[39m_maybe_define_function(args, kwargs)\n\u001b[1;32m-> 2942\u001b[0m \u001b[38;5;28;01mreturn\u001b[39;00m \u001b[43mgraph_function\u001b[49m\u001b[38;5;241;43m.\u001b[39;49m\u001b[43m_call_flat\u001b[49m\u001b[43m(\u001b[49m\n\u001b[0;32m   2943\u001b[0m \u001b[43m    \u001b[49m\u001b[43mfiltered_flat_args\u001b[49m\u001b[43m,\u001b[49m\u001b[43m \u001b[49m\u001b[43mcaptured_inputs\u001b[49m\u001b[38;5;241;43m=\u001b[39;49m\u001b[43mgraph_function\u001b[49m\u001b[38;5;241;43m.\u001b[39;49m\u001b[43mcaptured_inputs\u001b[49m\u001b[43m)\u001b[49m\n",
      "File \u001b[1;32m~\\anaconda3\\envs\\hand_sign_detection\\lib\\site-packages\\tensorflow\\python\\eager\\function.py:1918\u001b[0m, in \u001b[0;36mConcreteFunction._call_flat\u001b[1;34m(self, args, captured_inputs, cancellation_manager)\u001b[0m\n\u001b[0;32m   1914\u001b[0m possible_gradient_type \u001b[38;5;241m=\u001b[39m gradients_util\u001b[38;5;241m.\u001b[39mPossibleTapeGradientTypes(args)\n\u001b[0;32m   1915\u001b[0m \u001b[38;5;28;01mif\u001b[39;00m (possible_gradient_type \u001b[38;5;241m==\u001b[39m gradients_util\u001b[38;5;241m.\u001b[39mPOSSIBLE_GRADIENT_TYPES_NONE\n\u001b[0;32m   1916\u001b[0m     \u001b[38;5;129;01mand\u001b[39;00m executing_eagerly):\n\u001b[0;32m   1917\u001b[0m   \u001b[38;5;66;03m# No tape is watching; skip to running the function.\u001b[39;00m\n\u001b[1;32m-> 1918\u001b[0m   \u001b[38;5;28;01mreturn\u001b[39;00m \u001b[38;5;28mself\u001b[39m\u001b[38;5;241m.\u001b[39m_build_call_outputs(\u001b[38;5;28;43mself\u001b[39;49m\u001b[38;5;241;43m.\u001b[39;49m\u001b[43m_inference_function\u001b[49m\u001b[38;5;241;43m.\u001b[39;49m\u001b[43mcall\u001b[49m\u001b[43m(\u001b[49m\n\u001b[0;32m   1919\u001b[0m \u001b[43m      \u001b[49m\u001b[43mctx\u001b[49m\u001b[43m,\u001b[49m\u001b[43m \u001b[49m\u001b[43margs\u001b[49m\u001b[43m,\u001b[49m\u001b[43m \u001b[49m\u001b[43mcancellation_manager\u001b[49m\u001b[38;5;241;43m=\u001b[39;49m\u001b[43mcancellation_manager\u001b[49m\u001b[43m)\u001b[49m)\n\u001b[0;32m   1920\u001b[0m forward_backward \u001b[38;5;241m=\u001b[39m \u001b[38;5;28mself\u001b[39m\u001b[38;5;241m.\u001b[39m_select_forward_and_backward_functions(\n\u001b[0;32m   1921\u001b[0m     args,\n\u001b[0;32m   1922\u001b[0m     possible_gradient_type,\n\u001b[0;32m   1923\u001b[0m     executing_eagerly)\n\u001b[0;32m   1924\u001b[0m forward_function, args_with_tangents \u001b[38;5;241m=\u001b[39m forward_backward\u001b[38;5;241m.\u001b[39mforward()\n",
      "File \u001b[1;32m~\\anaconda3\\envs\\hand_sign_detection\\lib\\site-packages\\tensorflow\\python\\eager\\function.py:555\u001b[0m, in \u001b[0;36m_EagerDefinedFunction.call\u001b[1;34m(self, ctx, args, cancellation_manager)\u001b[0m\n\u001b[0;32m    553\u001b[0m \u001b[38;5;28;01mwith\u001b[39;00m _InterpolateFunctionError(\u001b[38;5;28mself\u001b[39m):\n\u001b[0;32m    554\u001b[0m   \u001b[38;5;28;01mif\u001b[39;00m cancellation_manager \u001b[38;5;129;01mis\u001b[39;00m \u001b[38;5;28;01mNone\u001b[39;00m:\n\u001b[1;32m--> 555\u001b[0m     outputs \u001b[38;5;241m=\u001b[39m \u001b[43mexecute\u001b[49m\u001b[38;5;241;43m.\u001b[39;49m\u001b[43mexecute\u001b[49m\u001b[43m(\u001b[49m\n\u001b[0;32m    556\u001b[0m \u001b[43m        \u001b[49m\u001b[38;5;28;43mstr\u001b[39;49m\u001b[43m(\u001b[49m\u001b[38;5;28;43mself\u001b[39;49m\u001b[38;5;241;43m.\u001b[39;49m\u001b[43msignature\u001b[49m\u001b[38;5;241;43m.\u001b[39;49m\u001b[43mname\u001b[49m\u001b[43m)\u001b[49m\u001b[43m,\u001b[49m\n\u001b[0;32m    557\u001b[0m \u001b[43m        \u001b[49m\u001b[43mnum_outputs\u001b[49m\u001b[38;5;241;43m=\u001b[39;49m\u001b[38;5;28;43mself\u001b[39;49m\u001b[38;5;241;43m.\u001b[39;49m\u001b[43m_num_outputs\u001b[49m\u001b[43m,\u001b[49m\n\u001b[0;32m    558\u001b[0m \u001b[43m        \u001b[49m\u001b[43minputs\u001b[49m\u001b[38;5;241;43m=\u001b[39;49m\u001b[43margs\u001b[49m\u001b[43m,\u001b[49m\n\u001b[0;32m    559\u001b[0m \u001b[43m        \u001b[49m\u001b[43mattrs\u001b[49m\u001b[38;5;241;43m=\u001b[39;49m\u001b[43mattrs\u001b[49m\u001b[43m,\u001b[49m\n\u001b[0;32m    560\u001b[0m \u001b[43m        \u001b[49m\u001b[43mctx\u001b[49m\u001b[38;5;241;43m=\u001b[39;49m\u001b[43mctx\u001b[49m\u001b[43m)\u001b[49m\n\u001b[0;32m    561\u001b[0m   \u001b[38;5;28;01melse\u001b[39;00m:\n\u001b[0;32m    562\u001b[0m     outputs \u001b[38;5;241m=\u001b[39m execute\u001b[38;5;241m.\u001b[39mexecute_with_cancellation(\n\u001b[0;32m    563\u001b[0m         \u001b[38;5;28mstr\u001b[39m(\u001b[38;5;28mself\u001b[39m\u001b[38;5;241m.\u001b[39msignature\u001b[38;5;241m.\u001b[39mname),\n\u001b[0;32m    564\u001b[0m         num_outputs\u001b[38;5;241m=\u001b[39m\u001b[38;5;28mself\u001b[39m\u001b[38;5;241m.\u001b[39m_num_outputs,\n\u001b[1;32m   (...)\u001b[0m\n\u001b[0;32m    567\u001b[0m         ctx\u001b[38;5;241m=\u001b[39mctx,\n\u001b[0;32m    568\u001b[0m         cancellation_manager\u001b[38;5;241m=\u001b[39mcancellation_manager)\n",
      "File \u001b[1;32m~\\anaconda3\\envs\\hand_sign_detection\\lib\\site-packages\\tensorflow\\python\\eager\\execute.py:59\u001b[0m, in \u001b[0;36mquick_execute\u001b[1;34m(op_name, num_outputs, inputs, attrs, ctx, name)\u001b[0m\n\u001b[0;32m     57\u001b[0m \u001b[38;5;28;01mtry\u001b[39;00m:\n\u001b[0;32m     58\u001b[0m   ctx\u001b[38;5;241m.\u001b[39mensure_initialized()\n\u001b[1;32m---> 59\u001b[0m   tensors \u001b[38;5;241m=\u001b[39m \u001b[43mpywrap_tfe\u001b[49m\u001b[38;5;241;43m.\u001b[39;49m\u001b[43mTFE_Py_Execute\u001b[49m\u001b[43m(\u001b[49m\u001b[43mctx\u001b[49m\u001b[38;5;241;43m.\u001b[39;49m\u001b[43m_handle\u001b[49m\u001b[43m,\u001b[49m\u001b[43m \u001b[49m\u001b[43mdevice_name\u001b[49m\u001b[43m,\u001b[49m\u001b[43m \u001b[49m\u001b[43mop_name\u001b[49m\u001b[43m,\u001b[49m\n\u001b[0;32m     60\u001b[0m \u001b[43m                                      \u001b[49m\u001b[43minputs\u001b[49m\u001b[43m,\u001b[49m\u001b[43m \u001b[49m\u001b[43mattrs\u001b[49m\u001b[43m,\u001b[49m\u001b[43m \u001b[49m\u001b[43mnum_outputs\u001b[49m\u001b[43m)\u001b[49m\n\u001b[0;32m     61\u001b[0m \u001b[38;5;28;01mexcept\u001b[39;00m core\u001b[38;5;241m.\u001b[39m_NotOkStatusException \u001b[38;5;28;01mas\u001b[39;00m e:\n\u001b[0;32m     62\u001b[0m   \u001b[38;5;28;01mif\u001b[39;00m name \u001b[38;5;129;01mis\u001b[39;00m \u001b[38;5;129;01mnot\u001b[39;00m \u001b[38;5;28;01mNone\u001b[39;00m:\n",
      "\u001b[1;31mKeyboardInterrupt\u001b[0m: "
     ]
    }
   ],
   "source": [
    "model.fit(X_train, y_train, epochs=2000, callbacks=[tb_callback])"
   ]
  },
  {
   "cell_type": "code",
   "execution_count": 36,
   "id": "ff39d36b-a8c1-4eaf-9d0a-d1bd373d5b6d",
   "metadata": {},
   "outputs": [
    {
     "name": "stdout",
     "output_type": "stream",
     "text": [
      "Model: \"sequential\"\n",
      "_________________________________________________________________\n",
      "Layer (type)                 Output Shape              Param #   \n",
      "=================================================================\n",
      "lstm (LSTM)                  (None, 15, 64)            442112    \n",
      "_________________________________________________________________\n",
      "lstm_1 (LSTM)                (None, 15, 128)           98816     \n",
      "_________________________________________________________________\n",
      "lstm_2 (LSTM)                (None, 64)                49408     \n",
      "_________________________________________________________________\n",
      "dense (Dense)                (None, 64)                4160      \n",
      "_________________________________________________________________\n",
      "dense_1 (Dense)              (None, 32)                2080      \n",
      "_________________________________________________________________\n",
      "dense_2 (Dense)              (None, 8)                 264       \n",
      "=================================================================\n",
      "Total params: 596,840\n",
      "Trainable params: 596,840\n",
      "Non-trainable params: 0\n",
      "_________________________________________________________________\n"
     ]
    }
   ],
   "source": [
    "model.summary()"
   ]
  },
  {
   "cell_type": "markdown",
   "id": "48f6b254-86f6-44e8-a025-82e26e96fafb",
   "metadata": {},
   "source": [
    "8. Make Predictions"
   ]
  },
  {
   "cell_type": "code",
   "execution_count": 37,
   "id": "754e0370-bbd8-417a-ad2f-e1b69985246f",
   "metadata": {},
   "outputs": [],
   "source": [
    "res = model.predict(X_test)"
   ]
  },
  {
   "cell_type": "code",
   "execution_count": 38,
   "id": "75a37b9b-5224-4a99-9b80-57d6036f74e6",
   "metadata": {},
   "outputs": [
    {
     "data": {
      "text/plain": [
       "' Help'"
      ]
     },
     "execution_count": 38,
     "metadata": {},
     "output_type": "execute_result"
    }
   ],
   "source": [
    "actions[np.argmax(res[3])]"
   ]
  },
  {
   "cell_type": "code",
   "execution_count": 39,
   "id": "10521e18-50b6-40da-bf62-0246210f620b",
   "metadata": {},
   "outputs": [
    {
     "data": {
      "text/plain": [
       "' Help'"
      ]
     },
     "execution_count": 39,
     "metadata": {},
     "output_type": "execute_result"
    }
   ],
   "source": [
    "actions[np.argmax(y_test[3])]"
   ]
  },
  {
   "cell_type": "markdown",
   "id": "586b05ed-3311-491c-85f7-54efd51721cd",
   "metadata": {},
   "source": [
    "9. Save Weights"
   ]
  },
  {
   "cell_type": "code",
   "execution_count": 40,
   "id": "3da9ea02-c51a-47a8-b83c-43a632df5909",
   "metadata": {},
   "outputs": [],
   "source": [
    "model.save('action.h5')"
   ]
  },
  {
   "cell_type": "code",
   "execution_count": 41,
   "id": "6b7a0468-8340-446b-ad71-f59d36b065d0",
   "metadata": {},
   "outputs": [],
   "source": [
    "model.load_weights('action.h5')"
   ]
  },
  {
   "cell_type": "markdown",
   "id": "3fbddcdf-b0c2-49fa-903a-811f648c6766",
   "metadata": {},
   "source": [
    "10. Evaluation using Confusion Matrix and Accuracy"
   ]
  },
  {
   "cell_type": "code",
   "execution_count": 42,
   "id": "13dcba01-16d0-4902-92c9-b2507b1879bd",
   "metadata": {},
   "outputs": [],
   "source": [
    "from sklearn.metrics import multilabel_confusion_matrix, accuracy_score"
   ]
  },
  {
   "cell_type": "code",
   "execution_count": 43,
   "id": "0b92981d-3f89-443f-af8c-591046e72ae7",
   "metadata": {},
   "outputs": [],
   "source": [
    "yhat = model.predict(X_test)"
   ]
  },
  {
   "cell_type": "code",
   "execution_count": 44,
   "id": "34a5f9b3-c949-434a-9b07-67921931c726",
   "metadata": {},
   "outputs": [],
   "source": [
    "ytrue = np.argmax(y_test, axis=1).tolist()\n",
    "yhat = np.argmax(yhat, axis=1).tolist()"
   ]
  },
  {
   "cell_type": "code",
   "execution_count": 45,
   "id": "f6891aa5-3469-4bbe-a3fe-6a0721c9df1c",
   "metadata": {},
   "outputs": [
    {
     "data": {
      "text/plain": [
       "array([[[4, 0],\n",
       "        [0, 2]],\n",
       "\n",
       "       [[5, 0],\n",
       "        [0, 1]],\n",
       "\n",
       "       [[4, 0],\n",
       "        [0, 2]],\n",
       "\n",
       "       [[5, 0],\n",
       "        [0, 1]]], dtype=int64)"
      ]
     },
     "execution_count": 45,
     "metadata": {},
     "output_type": "execute_result"
    }
   ],
   "source": [
    "multilabel_confusion_matrix(ytrue, yhat)"
   ]
  },
  {
   "cell_type": "code",
   "execution_count": 46,
   "id": "7b41f409-2e7b-4ed8-8bac-e122147f61a1",
   "metadata": {},
   "outputs": [
    {
     "data": {
      "text/plain": [
       "1.0"
      ]
     },
     "execution_count": 46,
     "metadata": {},
     "output_type": "execute_result"
    }
   ],
   "source": [
    "accuracy_score(ytrue, yhat)"
   ]
  },
  {
   "cell_type": "markdown",
   "id": "6d618a09-abf0-4382-a840-27de7e3ac02f",
   "metadata": {},
   "source": [
    "11. Test in Real Time"
   ]
  },
  {
   "cell_type": "code",
   "execution_count": 48,
   "id": "81068d41-e5ed-41c1-af4c-b02b24811a31",
   "metadata": {},
   "outputs": [],
   "source": [
    "cap = cv2.VideoCapture(0)\n",
    "\n",
    "# New detection variables\n",
    "sequence = []\n",
    "sentence = []\n",
    "threshold = 0.4\n",
    "\n",
    "with mp_holistic.Holistic(min_detection_confidence=0.5, min_tracking_confidence=0.5) as holistic:\n",
    "    while cap.isOpened():\n",
    "        # Read feed\n",
    "        ret, frame = cap.read()\n",
    "\n",
    "        # Make detections and draw landmarks\n",
    "        image, results = mediapipe_detection(frame, holistic)\n",
    "        draw_styled_landmarks(image, results)\n",
    "\n",
    "        # Prediction logic\n",
    "        keypoints = extract_keypoints(results)\n",
    "        sequence.append(keypoints)\n",
    "        sequence = sequence[-15:] #up\n",
    "\n",
    "        if len(sequence) == 15: #up\n",
    "            res = model.predict(np.expand_dims(sequence, axis=0))[0]\n",
    "\n",
    "            if res[np.argmax(res)] > threshold:\n",
    "                if len(sentence) > 0:\n",
    "                    if actions[np.argmax(res)] != sentence[-1]:\n",
    "                        sentence.append(actions[np.argmax(res)])\n",
    "                else:\n",
    "                    sentence.append(actions[np.argmax(res)])\n",
    "\n",
    "            \n",
    "            if len(sentence) > 5:\n",
    "                sentence = sentence[-5:]\n",
    "            \n",
    "\n",
    "        cv2.rectangle(image, (0, 0), (640, 40), (245, 117, 16), -1)\n",
    "        cv2.putText(image, ' '.join(sentence), (8, 15),   #up\n",
    "                    cv2.FONT_HERSHEY_SIMPLEX, 1, (255, 255, 255), 2, cv2.LINE_AA)\n",
    "\n",
    "        # Show to screen\n",
    "        cv2.imshow('OpenCV Feed', image)\n",
    "\n",
    "        # Break gracefully\n",
    "        if cv2.waitKey(10) & 0xFF == ord('q'):\n",
    "            break\n",
    "\n",
    "# Release the camera and close all OpenCV windows\n",
    "cap.release()\n",
    "cv2.destroyAllWindows()\n"
   ]
  },
  {
   "cell_type": "code",
   "execution_count": 49,
   "id": "2af97c50-7e4a-4352-b2b5-5b75b1d73e1f",
   "metadata": {},
   "outputs": [],
   "source": [
    "cap.release()\n",
    "cv2.destroyAllWindows()"
   ]
  },
  {
   "cell_type": "code",
   "execution_count": 50,
   "id": "241b6f35-0944-427f-8ff4-b53a7b2c53d2",
   "metadata": {},
   "outputs": [
    {
     "data": {
      "text/plain": [
       "1.0"
      ]
     },
     "execution_count": 50,
     "metadata": {},
     "output_type": "execute_result"
    }
   ],
   "source": [
    "res[np.argmax(res)] "
   ]
  },
  {
   "cell_type": "code",
   "execution_count": 51,
   "id": "72fea338-b867-484d-be21-e5b217b3acac",
   "metadata": {},
   "outputs": [
    {
     "data": {
      "text/plain": [
       "array([[7.7509008e-31, 5.0372407e-32, 0.0000000e+00, 5.5358535e-24,\n",
       "        0.0000000e+00, 1.0000000e+00, 4.2359242e-34, 1.9654565e-29]],\n",
       "      dtype=float32)"
      ]
     },
     "execution_count": 51,
     "metadata": {},
     "output_type": "execute_result"
    }
   ],
   "source": [
    "model.predict(np.expand_dims(X_test[0], axis=0))"
   ]
  },
  {
   "cell_type": "code",
   "execution_count": null,
   "id": "34dc1d72-205d-4f19-9f11-9ab18d6571ac",
   "metadata": {},
   "outputs": [],
   "source": []
  }
 ],
 "metadata": {
  "kernelspec": {
   "display_name": "hand_sign_detection",
   "language": "python",
   "name": "hand_sign_detection"
  },
  "language_info": {
   "codemirror_mode": {
    "name": "ipython",
    "version": 3
   },
   "file_extension": ".py",
   "mimetype": "text/x-python",
   "name": "python",
   "nbconvert_exporter": "python",
   "pygments_lexer": "ipython3",
   "version": "3.8.18"
  }
 },
 "nbformat": 4,
 "nbformat_minor": 5
}
